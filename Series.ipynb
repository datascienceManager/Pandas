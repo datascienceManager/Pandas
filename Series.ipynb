{
 "cells": [
  {
   "cell_type": "code",
   "execution_count": 1,
   "metadata": {},
   "outputs": [],
   "source": [
    "import pandas as pd"
   ]
  },
  {
   "cell_type": "code",
   "execution_count": null,
   "metadata": {},
   "outputs": [],
   "source": [
    "# Pandas Series Constructor Syntax\n",
    "# Pandas.series(data,index,dtype,copy)\n",
    "\n",
    "# data: The data contains ndarray, list, constants.\n",
    "# Index: The index must be unique and hashable. np.arrange(n) if no index is passed.\n",
    "# dtype: dtype is also a data type.\n",
    "# copy: It is used to copy the data. The data contains ndarray, list, constants."
   ]
  },
  {
   "cell_type": "code",
   "execution_count": 2,
   "metadata": {},
   "outputs": [],
   "source": [
    "import pandas as pd\n",
    "import numpy as np"
   ]
  },
  {
   "cell_type": "code",
   "execution_count": 3,
   "metadata": {},
   "outputs": [
    {
     "name": "stdout",
     "output_type": "stream",
     "text": [
      "0    python\n",
      "1       php\n",
      "2      java\n",
      "dtype: object\n"
     ]
    }
   ],
   "source": [
    "data = np.array(['python','php','java'])\n",
    "\n",
    "series = pd.Series(data)\n",
    "\n",
    "print(series)"
   ]
  },
  {
   "cell_type": "code",
   "execution_count": 5,
   "metadata": {},
   "outputs": [
    {
     "name": "stdout",
     "output_type": "stream",
     "text": [
      "r1    python\n",
      "r2       php\n",
      "r3      java\n",
      "dtype: object\n"
     ]
    }
   ],
   "source": [
    "s2 = pd.Series(data =data, index=['r1','r2','r3'])\n",
    "\n",
    "print(s2)"
   ]
  },
  {
   "cell_type": "markdown",
   "metadata": {},
   "source": [
    "Create Series using Dict"
   ]
  },
  {
   "cell_type": "code",
   "execution_count": 6,
   "metadata": {},
   "outputs": [
    {
     "name": "stdout",
     "output_type": "stream",
     "text": [
      "Course      pandas\n",
      "Fees          2000\n",
      "Duration    30days\n",
      "dtype: object\n"
     ]
    }
   ],
   "source": [
    "data = {'Course':\"pandas\",'Fees':2000,'Duration':\"30days\"}\n",
    "\n",
    "s2 = pd.Series(data)\n",
    "\n",
    "print(s2)"
   ]
  },
  {
   "cell_type": "markdown",
   "metadata": {},
   "source": [
    "To See index from Dict and add index while creating a Series."
   ]
  },
  {
   "cell_type": "code",
   "execution_count": 8,
   "metadata": {},
   "outputs": [
    {
     "name": "stdout",
     "output_type": "stream",
     "text": [
      "Courses           NaN\n",
      "CourseFee         NaN\n",
      "CourseDuration    NaN\n",
      "dtype: object\n"
     ]
    }
   ],
   "source": [
    "data = {'Course':\"pandas\",'Fees':2000,'Duration':\"30days\"}\n",
    "s3 = pd.Series(data=data , index=['Courses','CourseFee','CourseDuration'])\n",
    "\n",
    "print(s3)"
   ]
  },
  {
   "cell_type": "code",
   "execution_count": 15,
   "metadata": {},
   "outputs": [
    {
     "data": {
      "text/plain": [
       "['r0', 'r1', 'r2', 'r3', 'r4']"
      ]
     },
     "execution_count": 15,
     "metadata": {},
     "output_type": "execute_result"
    }
   ],
   "source": []
  },
  {
   "cell_type": "markdown",
   "metadata": {},
   "source": [
    "Create Series using List"
   ]
  },
  {
   "cell_type": "code",
   "execution_count": 18,
   "metadata": {},
   "outputs": [
    {
     "name": "stdout",
     "output_type": "stream",
     "text": [
      "r0    python\n",
      "r1       php\n",
      "r2      java\n",
      "r3         R\n",
      "dtype: object\n"
     ]
    }
   ],
   "source": [
    "dataList = ['python','php','java','R']\n",
    "\n",
    "l1 = list('r'+ str(i) for i in range(4))\n",
    "\n",
    "s4 = pd.Series(dataList,index=l1)\n",
    "\n",
    "print(s4)"
   ]
  },
  {
   "cell_type": "markdown",
   "metadata": {},
   "source": [
    "Creating Empty Series"
   ]
  },
  {
   "cell_type": "code",
   "execution_count": 19,
   "metadata": {},
   "outputs": [
    {
     "name": "stdout",
     "output_type": "stream",
     "text": [
      "Series([], dtype: float64)\n"
     ]
    },
    {
     "name": "stderr",
     "output_type": "stream",
     "text": [
      "c:\\Users\\Manjunath\\miniconda3\\envs\\azure_automl\\lib\\site-packages\\ipykernel_launcher.py:1: DeprecationWarning: The default dtype for empty Series will be 'object' instead of 'float64' in a future version. Specify a dtype explicitly to silence this warning.\n",
      "  \"\"\"Entry point for launching an IPython kernel.\n"
     ]
    }
   ],
   "source": [
    "s = pd.Series()\n",
    "\n",
    "print(s)"
   ]
  },
  {
   "cell_type": "code",
   "execution_count": 22,
   "metadata": {},
   "outputs": [
    {
     "name": "stdout",
     "output_type": "stream",
     "text": [
      "    course  fees\n",
      "0    Spark   220\n",
      "1  PySpark   300\n",
      "2   Hadoop   400\n"
     ]
    }
   ],
   "source": [
    "course = pd.Series(['Spark','PySpark','Hadoop'],name='course')\n",
    "Fees = pd.Series([220,300,400],name='fees')\n",
    "\n",
    "df = pd.concat([course,Fees],axis=1)\n",
    "\n",
    "print(df)"
   ]
  },
  {
   "cell_type": "code",
   "execution_count": 25,
   "metadata": {},
   "outputs": [
    {
     "name": "stdout",
     "output_type": "stream",
     "text": [
      "0    python\n",
      "1     Spark\n",
      "2         R\n",
      "Name: Course, dtype: object\n",
      "<class 'pandas.core.series.Series'>\n"
     ]
    }
   ],
   "source": [
    "# Convert a single DataFrame column into a series\n",
    "\n",
    "data = ['python','Spark','R']\n",
    "\n",
    "df = pd.DataFrame(data,columns = ['Course'])\n",
    "\n",
    "my_series = df.squeeze()\n",
    "\n",
    "print(my_series)\n",
    "\n",
    "print(type(my_series))"
   ]
  },
  {
   "cell_type": "markdown",
   "metadata": {},
   "source": [
    "Convert a specific DataFrame column into a series"
   ]
  },
  {
   "cell_type": "code",
   "execution_count": 27,
   "metadata": {},
   "outputs": [
    {
     "name": "stdout",
     "output_type": "stream",
     "text": [
      "   Courses Duration  Price\n",
      "0    Spark  30 days  20000\n",
      "1  PySpark  40 days  25000\n",
      "2   Python  50 days  26000\n",
      "<class 'pandas.core.frame.DataFrame'>\n"
     ]
    }
   ],
   "source": [
    "# create DataFrame with multiple columns\n",
    "import pandas as pd\n",
    "data = {'Courses': ['Spark', 'PySpark', 'Python'],\n",
    "        'Duration':['30 days', '40 days', '50 days'],\n",
    "        'Price':[20000, 25000, 26000]\n",
    "        }\n",
    "df = pd.DataFrame(data, columns = ['Courses', 'Duration', 'Price'])\n",
    "print(df)\n",
    "print (type(df))"
   ]
  },
  {
   "cell_type": "code",
   "execution_count": 29,
   "metadata": {},
   "outputs": [
    {
     "name": "stdout",
     "output_type": "stream",
     "text": [
      "0    20000\n",
      "1    25000\n",
      "2    26000\n",
      "Name: Price, dtype: int64\n",
      "<class 'pandas.core.series.Series'>\n"
     ]
    }
   ],
   "source": [
    "myseries1 = df['Price'].squeeze()\n",
    "\n",
    "print(myseries1)\n",
    "\n",
    "print(type(myseries1))"
   ]
  }
 ],
 "metadata": {
  "kernelspec": {
   "display_name": "Python 3.6.13 ('azure_automl')",
   "language": "python",
   "name": "python3"
  },
  "language_info": {
   "codemirror_mode": {
    "name": "ipython",
    "version": 3
   },
   "file_extension": ".py",
   "mimetype": "text/x-python",
   "name": "python",
   "nbconvert_exporter": "python",
   "pygments_lexer": "ipython3",
   "version": "3.6.13"
  },
  "orig_nbformat": 4,
  "vscode": {
   "interpreter": {
    "hash": "5643318745b79b3beb11ee3e849fa4e896540f2c6aa2c56ebf382350661707b1"
   }
  }
 },
 "nbformat": 4,
 "nbformat_minor": 2
}
